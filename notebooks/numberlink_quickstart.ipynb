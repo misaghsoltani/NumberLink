{
  "cells": [
    {
      "cell_type": "markdown",
      "id": "7fb27b941602401d91542211134fc71a",
      "metadata": {
        "id": "7fb27b941602401d91542211134fc71a"
      },
      "source": [
        "# NumberLink Gymnasium Quick Start\n",
        "\n",
        "This notebook mirrors the [`NumberLink` documentation](https://misaghsoltani.github.io/NumberLink/) and demonstrates common Gymnasium workflows, including masked sampling, vector environments, and a text-based human render."
      ]
    },
    {
      "cell_type": "code",
      "execution_count": 8,
      "id": "acae54e37e7d407bbb7b55eff062a284",
      "metadata": {
        "id": "acae54e37e7d407bbb7b55eff062a284",
        "outputId": "1efc4dcd-d5b5-4387-8ed1-df9a6674f2f3",
        "colab": {
          "base_uri": "https://localhost:8080/"
        }
      },
      "outputs": [
        {
          "output_type": "stream",
          "name": "stdout",
          "text": [
            "Requirement already satisfied: uv in /usr/local/lib/python3.12/dist-packages (0.9.5)\n"
          ]
        }
      ],
      "source": [
        "# Install NumberLink and Gymnasium for this runtime\n",
        "!pip install uv\n",
        "!uv pip install -q numberlink gymnasium"
      ]
    },
    {
      "cell_type": "code",
      "execution_count": 9,
      "id": "9a63283cbaf04dbcab1f6479b197f3a8",
      "metadata": {
        "id": "9a63283cbaf04dbcab1f6479b197f3a8",
        "outputId": "6528203c-06fa-4994-de5b-49cea0439c37",
        "colab": {
          "base_uri": "https://localhost:8080/"
        }
      },
      "outputs": [
        {
          "output_type": "stream",
          "name": "stdout",
          "text": [
            "Gymnasium version: 1.2.1\n",
            "NumberLink version: 0.1.0\n",
            "Gymnasium version: 1.2.1\n",
            "NumberLink version: 0.1.0\n"
          ]
        }
      ],
      "source": [
        "import gymnasium as gym\n",
        "\n",
        "import numberlink\n",
        "from numberlink import GeneratorConfig\n",
        "\n",
        "print(\"Gymnasium version:\", gym.__version__)\n",
        "print(\"NumberLink version:\", numberlink.__version__)\n",
        "\n",
        "print(\"Gymnasium version:\", gym.__version__)\n",
        "print(\"NumberLink version:\", numberlink.__version__)"
      ]
    },
    {
      "cell_type": "markdown",
      "id": "8dd0d8092fe74a7c96281538738b07e2",
      "metadata": {
        "id": "8dd0d8092fe74a7c96281538738b07e2"
      },
      "source": [
        "## Single environment with masked sampling\n",
        "Gymnasium discovers `NumberLinkRGB-v0` from the installed package entry points. The info dictionary includes an `action_mask`, so we forward it into `action_space.sample`."
      ]
    },
    {
      "cell_type": "code",
      "execution_count": 10,
      "id": "72eea5119410473aa328ad9291626812",
      "metadata": {
        "id": "72eea5119410473aa328ad9291626812",
        "outputId": "17abc5a9-bd69-454a-8500-e8f51b9ff88c",
        "colab": {
          "base_uri": "https://localhost:8080/",
          "height": 365
        }
      },
      "outputs": [
        {
          "output_type": "error",
          "ename": "NameNotFound",
          "evalue": "Environment `NumberLinkRGB` doesn't exist.",
          "traceback": [
            "\u001b[0;31m---------------------------------------------------------------------------\u001b[0m",
            "\u001b[0;31mNameNotFound\u001b[0m                              Traceback (most recent call last)",
            "\u001b[0;32m/tmp/ipython-input-2906532375.py\u001b[0m in \u001b[0;36m<cell line: 0>\u001b[0;34m()\u001b[0m\n\u001b[0;32m----> 1\u001b[0;31m \u001b[0menv\u001b[0m \u001b[0;34m=\u001b[0m \u001b[0mgym\u001b[0m\u001b[0;34m.\u001b[0m\u001b[0mmake\u001b[0m\u001b[0;34m(\u001b[0m\u001b[0;34m\"NumberLinkRGB-v0\"\u001b[0m\u001b[0;34m,\u001b[0m \u001b[0mrender_mode\u001b[0m\u001b[0;34m=\u001b[0m\u001b[0;34m\"rgb_array\"\u001b[0m\u001b[0;34m)\u001b[0m\u001b[0;34m\u001b[0m\u001b[0;34m\u001b[0m\u001b[0m\n\u001b[0m\u001b[1;32m      2\u001b[0m \u001b[0mobservation\u001b[0m\u001b[0;34m,\u001b[0m \u001b[0minfo\u001b[0m \u001b[0;34m=\u001b[0m \u001b[0menv\u001b[0m\u001b[0;34m.\u001b[0m\u001b[0mreset\u001b[0m\u001b[0;34m(\u001b[0m\u001b[0mseed\u001b[0m\u001b[0;34m=\u001b[0m\u001b[0;36m42\u001b[0m\u001b[0;34m)\u001b[0m\u001b[0;34m\u001b[0m\u001b[0;34m\u001b[0m\u001b[0m\n\u001b[1;32m      3\u001b[0m \u001b[0maction_mask\u001b[0m \u001b[0;34m=\u001b[0m \u001b[0minfo\u001b[0m\u001b[0;34m[\u001b[0m\u001b[0;34m\"action_mask\"\u001b[0m\u001b[0;34m]\u001b[0m\u001b[0;34m\u001b[0m\u001b[0;34m\u001b[0m\u001b[0m\n\u001b[1;32m      4\u001b[0m \u001b[0mtotal_reward\u001b[0m \u001b[0;34m=\u001b[0m \u001b[0;36m0.0\u001b[0m\u001b[0;34m\u001b[0m\u001b[0;34m\u001b[0m\u001b[0m\n\u001b[1;32m      5\u001b[0m \u001b[0mterminated\u001b[0m \u001b[0;34m=\u001b[0m \u001b[0;32mFalse\u001b[0m\u001b[0;34m\u001b[0m\u001b[0;34m\u001b[0m\u001b[0m\n",
            "\u001b[0;32m/usr/local/lib/python3.12/dist-packages/gymnasium/envs/registration.py\u001b[0m in \u001b[0;36mmake\u001b[0;34m(id, max_episode_steps, disable_env_checker, **kwargs)\u001b[0m\n\u001b[1;32m    679\u001b[0m \u001b[0;34m\u001b[0m\u001b[0m\n\u001b[1;32m    680\u001b[0m         \u001b[0;31m# The environment name can include an unloaded module in \"module:env_name\" style\u001b[0m\u001b[0;34m\u001b[0m\u001b[0;34m\u001b[0m\u001b[0m\n\u001b[0;32m--> 681\u001b[0;31m         \u001b[0menv_spec\u001b[0m \u001b[0;34m=\u001b[0m \u001b[0m_find_spec\u001b[0m\u001b[0;34m(\u001b[0m\u001b[0mid\u001b[0m\u001b[0;34m)\u001b[0m\u001b[0;34m\u001b[0m\u001b[0;34m\u001b[0m\u001b[0m\n\u001b[0m\u001b[1;32m    682\u001b[0m \u001b[0;34m\u001b[0m\u001b[0m\n\u001b[1;32m    683\u001b[0m     \u001b[0;32massert\u001b[0m \u001b[0misinstance\u001b[0m\u001b[0;34m(\u001b[0m\u001b[0menv_spec\u001b[0m\u001b[0;34m,\u001b[0m \u001b[0mEnvSpec\u001b[0m\u001b[0;34m)\u001b[0m\u001b[0;34m\u001b[0m\u001b[0;34m\u001b[0m\u001b[0m\n",
            "\u001b[0;32m/usr/local/lib/python3.12/dist-packages/gymnasium/envs/registration.py\u001b[0m in \u001b[0;36m_find_spec\u001b[0;34m(env_id)\u001b[0m\n\u001b[1;32m    524\u001b[0m \u001b[0;34m\u001b[0m\u001b[0m\n\u001b[1;32m    525\u001b[0m     \u001b[0;32mif\u001b[0m \u001b[0menv_spec\u001b[0m \u001b[0;32mis\u001b[0m \u001b[0;32mNone\u001b[0m\u001b[0;34m:\u001b[0m\u001b[0;34m\u001b[0m\u001b[0;34m\u001b[0m\u001b[0m\n\u001b[0;32m--> 526\u001b[0;31m         \u001b[0m_check_version_exists\u001b[0m\u001b[0;34m(\u001b[0m\u001b[0mns\u001b[0m\u001b[0;34m,\u001b[0m \u001b[0mname\u001b[0m\u001b[0;34m,\u001b[0m \u001b[0mversion\u001b[0m\u001b[0;34m)\u001b[0m\u001b[0;34m\u001b[0m\u001b[0;34m\u001b[0m\u001b[0m\n\u001b[0m\u001b[1;32m    527\u001b[0m         raise error.Error(\n\u001b[1;32m    528\u001b[0m             \u001b[0;34mf\"No registered env with id: {env_name}. Did you register it, or import the package that registers it? Use `gymnasium.pprint_registry()` to see all of the registered environments.\"\u001b[0m\u001b[0;34m\u001b[0m\u001b[0;34m\u001b[0m\u001b[0m\n",
            "\u001b[0;32m/usr/local/lib/python3.12/dist-packages/gymnasium/envs/registration.py\u001b[0m in \u001b[0;36m_check_version_exists\u001b[0;34m(ns, name, version)\u001b[0m\n\u001b[1;32m    390\u001b[0m         \u001b[0;32mreturn\u001b[0m\u001b[0;34m\u001b[0m\u001b[0;34m\u001b[0m\u001b[0m\n\u001b[1;32m    391\u001b[0m \u001b[0;34m\u001b[0m\u001b[0m\n\u001b[0;32m--> 392\u001b[0;31m     \u001b[0m_check_name_exists\u001b[0m\u001b[0;34m(\u001b[0m\u001b[0mns\u001b[0m\u001b[0;34m,\u001b[0m \u001b[0mname\u001b[0m\u001b[0;34m)\u001b[0m\u001b[0;34m\u001b[0m\u001b[0;34m\u001b[0m\u001b[0m\n\u001b[0m\u001b[1;32m    393\u001b[0m     \u001b[0;32mif\u001b[0m \u001b[0mversion\u001b[0m \u001b[0;32mis\u001b[0m \u001b[0;32mNone\u001b[0m\u001b[0;34m:\u001b[0m\u001b[0;34m\u001b[0m\u001b[0;34m\u001b[0m\u001b[0m\n\u001b[1;32m    394\u001b[0m         \u001b[0;32mreturn\u001b[0m\u001b[0;34m\u001b[0m\u001b[0;34m\u001b[0m\u001b[0m\n",
            "\u001b[0;32m/usr/local/lib/python3.12/dist-packages/gymnasium/envs/registration.py\u001b[0m in \u001b[0;36m_check_name_exists\u001b[0;34m(ns, name)\u001b[0m\n\u001b[1;32m    367\u001b[0m     \u001b[0msuggestion_msg\u001b[0m \u001b[0;34m=\u001b[0m \u001b[0;34mf\" Did you mean: `{suggestion[0]}`?\"\u001b[0m \u001b[0;32mif\u001b[0m \u001b[0msuggestion\u001b[0m \u001b[0;32melse\u001b[0m \u001b[0;34m\"\"\u001b[0m\u001b[0;34m\u001b[0m\u001b[0;34m\u001b[0m\u001b[0m\n\u001b[1;32m    368\u001b[0m \u001b[0;34m\u001b[0m\u001b[0m\n\u001b[0;32m--> 369\u001b[0;31m     raise error.NameNotFound(\n\u001b[0m\u001b[1;32m    370\u001b[0m         \u001b[0;34mf\"Environment `{name}` doesn't exist{namespace_msg}.{suggestion_msg}\"\u001b[0m\u001b[0;34m\u001b[0m\u001b[0;34m\u001b[0m\u001b[0m\n\u001b[1;32m    371\u001b[0m     )\n",
            "\u001b[0;31mNameNotFound\u001b[0m: Environment `NumberLinkRGB` doesn't exist."
          ]
        }
      ],
      "source": [
        "from numberlink import register_numberlink_v0\n",
        "\n",
        "register_numberlink_v0()\n",
        "env = gym.make(\"NumberLinkRGB-v0\", render_mode=\"rgb_array\")\n",
        "observation, info = env.reset(seed=42)\n",
        "action_mask = info[\"action_mask\"]\n",
        "total_reward = 0.0\n",
        "terminated = False\n",
        "truncated = False\n",
        "step_count = 0\n",
        "while not (terminated or truncated) and step_count < 50:\n",
        "    action = env.action_space.sample(mask=action_mask)\n",
        "    observation, reward, terminated, truncated, info = env.step(action)\n",
        "    action_mask = info[\"action_mask\"]\n",
        "    total_reward += float(reward)\n",
        "    step_count += 1\n",
        "\n",
        "print(\"Steps:\", step_count)\n",
        "print(\"Total reward:\", total_reward)\n",
        "env.close()"
      ]
    },
    {
      "cell_type": "markdown",
      "id": "8edb47106e1a46a883d545849b8ab81b",
      "metadata": {
        "id": "8edb47106e1a46a883d545849b8ab81b"
      },
      "source": [
        "## Vectorized environments\n",
        "`gym.make_vec` batches several puzzles. Here we sample one masked action per batch element."
      ]
    },
    {
      "cell_type": "code",
      "execution_count": null,
      "id": "10185d26023b46108eb7d9f57d49d2b3",
      "metadata": {
        "id": "10185d26023b46108eb7d9f57d49d2b3"
      },
      "outputs": [],
      "source": [
        "vec_env = gym.make_vec(\n",
        "    \"NumberLinkRGB-v0\", num_envs=4, render_mode=\"rgb_array\", generator=GeneratorConfig(width=6, height=6, colors=4)\n",
        ")\n",
        "observations, infos = vec_env.reset(seed=7)\n",
        "actions = [vec_env.single_action_space.sample(mask=mask) for mask in infos[\"action_mask\"]]\n",
        "observations, rewards, terminated, truncated, infos = vec_env.step(actions)\n",
        "print(\"Rewards:\", rewards)\n",
        "print(\"Terminated flags:\", terminated)\n",
        "vec_env.close()"
      ]
    },
    {
      "cell_type": "markdown",
      "id": "8763a12b2bbd4a93a75aff182afb95dc",
      "metadata": {
        "id": "8763a12b2bbd4a93a75aff182afb95dc"
      },
      "source": [
        "## Human render mode (text)\n",
        "The `human` render mode prints an ASCII board layout following Gymnasium conventions."
      ]
    },
    {
      "cell_type": "code",
      "execution_count": null,
      "id": "7623eae2785240b9bd12b16a66d81610",
      "metadata": {
        "id": "7623eae2785240b9bd12b16a66d81610"
      },
      "outputs": [],
      "source": [
        "human_env = gym.make(\"NumberLinkRGB-v0\", render_mode=\"human\")\n",
        "_, human_info = human_env.reset(seed=0)\n",
        "board_text = human_env.render()\n",
        "print(board_text)\n",
        "human_env.close()"
      ]
    },
    {
      "cell_type": "markdown",
      "id": "7cdc8c89c7104fffa095e18ddfef8986",
      "metadata": {
        "id": "7cdc8c89c7104fffa095e18ddfef8986"
      },
      "source": [
        "## Replay the packaged solution\n",
        "When available, `env.get_solution()` returns a list of actions that solve the current board."
      ]
    },
    {
      "cell_type": "code",
      "execution_count": null,
      "id": "b118ea5561624da68c537baed56e602f",
      "metadata": {
        "id": "b118ea5561624da68c537baed56e602f"
      },
      "outputs": [],
      "source": [
        "from typing import cast\n",
        "\n",
        "from numberlink import NumberLinkRGBEnv\n",
        "\n",
        "solve_env: NumberLinkRGBEnv = cast(NumberLinkRGBEnv, gym.make(\"NumberLinkRGB-v0\", render_mode=\"rgb_array\"))\n",
        "solve_env.reset(seed=0)\n",
        "solution = solve_env.get_solution()\n",
        "if solution:\n",
        "    for action in solution:\n",
        "        observation, reward, terminated, truncated, info = solve_env.step(action)\n",
        "        if terminated or truncated:\n",
        "            break\n",
        "    last_board = solve_env.render()\n",
        "    print(\"Solved with\", len(solution), \"actions\")\n",
        "else:\n",
        "    print(\"No stored solution for this level\")\n",
        "solve_env.close()"
      ]
    }
  ],
  "metadata": {
    "kernelspec": {
      "display_name": "Python 3",
      "language": "python",
      "name": "python3"
    },
    "language_info": {
      "name": "python",
      "version": "3.10"
    },
    "colab": {
      "provenance": []
    }
  },
  "nbformat": 4,
  "nbformat_minor": 5
}