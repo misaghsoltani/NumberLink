{
 "cells": [
  {
   "cell_type": "markdown",
   "id": "7fb27b941602401d91542211134fc71a",
   "metadata": {},
   "source": [
    "# NumberLink Gymnasium Quick Start\n",
    "\n",
    "This notebook mirrors the [`NumberLink` documentation](https://misaghsoltani.github.io/NumberLink/) and demonstrates common Gymnasium workflows, including masked sampling, vector environments, and a text-based human render."
   ]
  },
  {
   "cell_type": "code",
   "execution_count": null,
   "id": "acae54e37e7d407bbb7b55eff062a284",
   "metadata": {},
   "outputs": [],
   "source": [
    "# Install NumberLink and Gymnasium for this runtime\n",
    "!pip install uv\n",
    "!uv pip install -q numberlink gymnasium"
   ]
  },
  {
   "cell_type": "code",
   "execution_count": null,
   "id": "9a63283cbaf04dbcab1f6479b197f3a8",
   "metadata": {},
   "outputs": [],
   "source": [
    "import gymnasium as gym\n",
    "\n",
    "import numberlink\n",
    "from numberlink import GeneratorConfig\n",
    "\n",
    "print(\"Gymnasium version:\", gym.__version__)\n",
    "print(\"NumberLink version:\", numberlink.__version__)\n",
    "\n",
    "print(\"Gymnasium version:\", gym.__version__)\n",
    "print(\"NumberLink version:\", numberlink.__version__)"
   ]
  },
  {
   "cell_type": "markdown",
   "id": "8dd0d8092fe74a7c96281538738b07e2",
   "metadata": {},
   "source": [
    "## Single environment with masked sampling\n",
    "Gymnasium discovers `NumberLinkRGB-v0` from the installed package entry points. The info dictionary includes an `action_mask`, so we forward it into `action_space.sample`."
   ]
  },
  {
   "cell_type": "code",
   "execution_count": null,
   "id": "72eea5119410473aa328ad9291626812",
   "metadata": {},
   "outputs": [],
   "source": [
    "env = gym.make(\"NumberLinkRGB-v0\", render_mode=\"rgb_array\")\n",
    "observation, info = env.reset(seed=42)\n",
    "action_mask = info[\"action_mask\"]\n",
    "total_reward = 0.0\n",
    "terminated = False\n",
    "truncated = False\n",
    "step_count = 0\n",
    "while not (terminated or truncated) and step_count < 50:\n",
    "    action = env.action_space.sample(mask=action_mask)\n",
    "    observation, reward, terminated, truncated, info = env.step(action)\n",
    "    action_mask = info[\"action_mask\"]\n",
    "    total_reward += float(reward)\n",
    "    step_count += 1\n",
    "\n",
    "print(\"Steps:\", step_count)\n",
    "print(\"Total reward:\", total_reward)\n",
    "env.close()"
   ]
  },
  {
   "cell_type": "markdown",
   "id": "8edb47106e1a46a883d545849b8ab81b",
   "metadata": {},
   "source": [
    "## Vectorized environments\n",
    "`gym.make_vec` batches several puzzles. Here we sample one masked action per batch element."
   ]
  },
  {
   "cell_type": "code",
   "execution_count": null,
   "id": "10185d26023b46108eb7d9f57d49d2b3",
   "metadata": {},
   "outputs": [],
   "source": [
    "vec_env = gym.make_vec(\n",
    "    \"NumberLinkRGB-v0\", num_envs=4, render_mode=\"rgb_array\", generator=GeneratorConfig(width=6, height=6, colors=4)\n",
    ")\n",
    "observations, infos = vec_env.reset(seed=7)\n",
    "actions = [vec_env.single_action_space.sample(mask=mask) for mask in infos[\"action_mask\"]]\n",
    "observations, rewards, terminated, truncated, infos = vec_env.step(actions)\n",
    "print(\"Rewards:\", rewards)\n",
    "print(\"Terminated flags:\", terminated)\n",
    "vec_env.close()"
   ]
  },
  {
   "cell_type": "markdown",
   "id": "8763a12b2bbd4a93a75aff182afb95dc",
   "metadata": {},
   "source": [
    "## Human render mode (text)\n",
    "The `human` render mode prints an ASCII board layout following Gymnasium conventions."
   ]
  },
  {
   "cell_type": "code",
   "execution_count": null,
   "id": "7623eae2785240b9bd12b16a66d81610",
   "metadata": {},
   "outputs": [],
   "source": [
    "human_env = gym.make(\"NumberLinkRGB-v0\", render_mode=\"human\")\n",
    "_, human_info = human_env.reset(seed=0)\n",
    "board_text = human_env.render()\n",
    "print(board_text)\n",
    "human_env.close()"
   ]
  },
  {
   "cell_type": "markdown",
   "id": "7cdc8c89c7104fffa095e18ddfef8986",
   "metadata": {},
   "source": [
    "## Replay the packaged solution\n",
    "When available, `env.get_solution()` returns a list of actions that solve the current board."
   ]
  },
  {
   "cell_type": "code",
   "execution_count": null,
   "id": "b118ea5561624da68c537baed56e602f",
   "metadata": {},
   "outputs": [],
   "source": [
    "from typing import cast\n",
    "\n",
    "from numberlink import NumberLinkRGBEnv\n",
    "\n",
    "solve_env: NumberLinkRGBEnv = cast(NumberLinkRGBEnv, gym.make(\"NumberLinkRGB-v0\", render_mode=\"rgb_array\"))\n",
    "solve_env.reset(seed=0)\n",
    "solution = solve_env.get_solution()\n",
    "if solution:\n",
    "    for action in solution:\n",
    "        observation, reward, terminated, truncated, info = solve_env.step(action)\n",
    "        if terminated or truncated:\n",
    "            break\n",
    "    last_board = solve_env.render()\n",
    "    print(\"Solved with\", len(solution), \"actions\")\n",
    "else:\n",
    "    print(\"No stored solution for this level\")\n",
    "solve_env.close()"
   ]
  }
 ],
 "metadata": {
  "kernelspec": {
   "display_name": "Python 3",
   "language": "python",
   "name": "python3"
  },
  "language_info": {
   "name": "python",
   "version": "3.10"
  }
 },
 "nbformat": 4,
 "nbformat_minor": 5
}
