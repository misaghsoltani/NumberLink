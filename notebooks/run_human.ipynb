{
  "nbformat": 4,
  "nbformat_minor": 0,
  "metadata": {
    "colab": {
      "provenance": []
    },
    "kernelspec": {
      "name": "python3",
      "display_name": "Python 3"
    },
    "language_info": {
      "name": "python"
    }
  },
  "cells": [
    {
      "cell_type": "markdown",
      "source": [
        "# Run NumberLink in Interactive Mode\n",
        "\n",
        "This notebook launches an interactive NumberLink instance (the `human` mode in Gymnasium)."
      ],
      "metadata": {
        "id": "gbm7oYOaOXGe"
      }
    },
    {
      "cell_type": "code",
      "source": [
        "%pip install uv\n",
        "!uv pip install numberlink gymnasium"
      ],
      "metadata": {
        "id": "WjDbNa6wOEO5"
      },
      "execution_count": null,
      "outputs": []
    },
    {
      "cell_type": "code",
      "source": [
        "import gymnasium as gym\n",
        "from numberlink import GeneratorConfig, NumberLinkViewer, RenderConfig, VariantConfig"
      ],
      "metadata": {
        "id": "AkI9To-UN6dh"
      },
      "execution_count": null,
      "outputs": []
    },
    {
      "cell_type": "code",
      "source": [
        "env = gym.make(\n",
        "    \"NumberLinkRGB-v0\",\n",
        "    render_mode=\"human\",\n",
        "    generator=GeneratorConfig(\n",
        "        mode=\"hamiltonian\",\n",
        "        colors=7,\n",
        "        width=8,\n",
        "        height=8,\n",
        "        must_fill=True,\n",
        "        min_path_length=3,\n",
        "    ),\n",
        "    variant=VariantConfig(\n",
        "        allow_diagonal=False, cell_switching_mode=False, bridges_enabled=False\n",
        "    ),\n",
        "    render_config=RenderConfig(\n",
        "        gridline_color=(60, 60, 60),\n",
        "        gridline_thickness=1,\n",
        "        show_endpoint_numbers=True,\n",
        "        render_height=500,\n",
        "        render_width=500,\n",
        "    ),\n",
        ")\n",
        "env.reset(seed=2)\n",
        "\n",
        "viewer = NumberLinkViewer(env, cell_size=64)\n",
        "viewer.loop()"
      ],
      "metadata": {
        "id": "EGEe9liyONnM"
      },
      "execution_count": null,
      "outputs": []
    },
    {
      "cell_type": "code",
      "source": [],
      "metadata": {
        "id": "lGcAAI-5ORS1"
      },
      "execution_count": null,
      "outputs": []
    }
  ]
}