{
 "cells": [
  {
   "cell_type": "markdown",
   "id": "8f4a9526",
   "metadata": {},
   "source": [
    "# Run NumberLink in Human Interactive Mode\n",
    "\n",
    "This notebook launches the NumberLink in `human` mode."
   ]
  },
  {
   "cell_type": "code",
   "execution_count": null,
   "id": "55a3b434",
   "metadata": {},
   "outputs": [],
   "source": [
    "%pip install uv\n",
    "!uv pip install -q \"numberlink[notebook]\" gymnasium"
   ]
  },
  {
   "cell_type": "code",
   "execution_count": 1,
   "id": "a7868ff6",
   "metadata": {},
   "outputs": [],
   "source": [
    "import gymnasium as gym\n",
    "from numberlink import GeneratorConfig, NumberLinkViewer, RenderConfig, VariantConfig"
   ]
  },
  {
   "cell_type": "code",
   "execution_count": null,
   "id": "c7a9bdab",
   "metadata": {},
   "outputs": [],
   "source": [
    "env = gym.make(\n",
    "    \"NumberLinkRGB-v0\",\n",
    "    render_mode=\"human\",\n",
    "    generator=GeneratorConfig(\n",
    "        mode=\"hamiltonian\",\n",
    "        colors=7,\n",
    "        width=8,\n",
    "        height=8,\n",
    "        must_fill=True,\n",
    "        min_path_length=3,\n",
    "    ),\n",
    "    variant=VariantConfig(\n",
    "        allow_diagonal=False, cell_switching_mode=False, bridges_enabled=False\n",
    "    ),\n",
    "    render_config=RenderConfig(\n",
    "        gridline_color=(60, 60, 60),\n",
    "        gridline_thickness=1,\n",
    "        show_endpoint_numbers=True,\n",
    "        render_height=400,\n",
    "        render_width=400,\n",
    "    ),\n",
    ")\n",
    "env.reset(seed=2)\n",
    "\n",
    "viewer = NumberLinkViewer(env, cell_size=64)\n",
    "viewer.loop()"
   ]
  },
  {
   "cell_type": "code",
   "execution_count": null,
   "id": "16b58b2a",
   "metadata": {},
   "outputs": [],
   "source": []
  }
 ],
 "metadata": {
  "kernelspec": {
   "display_name": "Python 3",
   "language": "python",
   "name": "python3"
  },
  "language_info": {
   "codemirror_mode": {
    "name": "ipython",
    "version": 3
   },
   "file_extension": ".py",
   "mimetype": "text/x-python",
   "name": "python",
   "nbconvert_exporter": "python",
   "pygments_lexer": "ipython3",
   "version": "3.14.0"
  }
 },
 "nbformat": 4,
 "nbformat_minor": 5
}
